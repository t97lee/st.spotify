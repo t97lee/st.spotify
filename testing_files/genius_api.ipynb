{
 "cells": [
  {
   "cell_type": "code",
   "execution_count": 5,
   "source": [
    "import os \r\n",
    "from lyricsgenius import Genius\r\n",
    "\r\n",
    "token = os.environ.get('genius_token')\r\n"
   ],
   "outputs": [],
   "metadata": {}
  },
  {
   "cell_type": "code",
   "execution_count": 6,
   "source": [
    "genius = Genius(token)\r\n"
   ],
   "outputs": [],
   "metadata": {}
  },
  {
   "cell_type": "code",
   "execution_count": 7,
   "source": [
    "song = genius.search_song(\"dragonball durag\",\"thundercat\")"
   ],
   "outputs": [
    {
     "output_type": "stream",
     "name": "stdout",
     "text": [
      "Searching for \"dragonball durag\" by thundercat...\n",
      "Done.\n"
     ]
    }
   ],
   "metadata": {}
  },
  {
   "cell_type": "code",
   "execution_count": 8,
   "source": [
    "print(song.lyrics)"
   ],
   "outputs": [
    {
     "output_type": "stream",
     "name": "stdout",
     "text": [
      "[Verse 1]\n",
      "I feel kinda fly standin' next to you\n",
      "Baby girl, how do I look in my durag?\n",
      "Would you tell me the truth?\n",
      "Stay with me and love me through the night, endlessly\n",
      "I'ma keep on all my chains when I'm makin' love to you\n",
      "Hold me close and let me squeeze you tight through the night\n",
      "But, baby girl, how do I look in my durag?\n",
      "Would you tell me the truth?\n",
      "\n",
      "[Verse 2]\n",
      "Do you like my new whip?\n",
      "Watch me go zoom, zoom\n",
      "Baby girl, how do I look in my durag?\n",
      "Would you tell me the truth? (Lie to me?)\n",
      "Stay with me and love me through the night, endlessly\n",
      "I just wanna know how you feel\n",
      "Tell me, am I doin' it right?\n",
      "\n",
      "[Verse 3]\n",
      "I may be covered in cat hair, but I still smell good\n",
      "Baby, let me know, how do I look in my durag?\n",
      "Don't lie to me, let me rock you all night long\n",
      "I'm tryna impress you, girl\n",
      "Let me know, how do I look in my durag?\n",
      "I'm tryna get intimate\n",
      "Let me love you like you never been before, baby (Ah, ah)\n",
      "(Ah, ah, ooh-ooh)\n",
      "\n",
      "[Verse 4]\n",
      "You don't have to like my video games or my comic books\n",
      "But, baby girl, how do I look in my durag?\n",
      "Did I tie it right?\n",
      "Did you wear that dress just for me?\n",
      "'Cause I'm tryna smash\n",
      "Baby girl, I'ma smash in my durag\n",
      "'Cause it's only right\n",
      "\n",
      "[Verse 5]\n",
      "Do you like the way my ice drips in the light?\n",
      "Baby girl, do you like me in my durag?\n",
      "Let me know\n",
      "Would you let me know?\n",
      "Let me know, girl\n",
      "Let's make love until we fall asleep\n",
      "I like the way you feel next to me\n",
      "Baby, you look so good in this moonlight\n",
      "Stay with me and love me through the night, baby\n",
      "Let's make love until we fall asleep\n"
     ]
    }
   ],
   "metadata": {}
  },
  {
   "cell_type": "code",
   "execution_count": null,
   "source": [],
   "outputs": [],
   "metadata": {}
  }
 ],
 "metadata": {
  "kernelspec": {
   "name": "python3",
   "display_name": "Python 3.8.5 64-bit ('stspot': conda)"
  },
  "language_info": {
   "codemirror_mode": {
    "name": "ipython",
    "version": 3
   },
   "file_extension": ".py",
   "mimetype": "text/x-python",
   "name": "python",
   "nbconvert_exporter": "python",
   "pygments_lexer": "ipython3",
   "version": "3.8.5"
  },
  "interpreter": {
   "hash": "575e6c2f60a8a511655ef4384cabb3655ab64825b667958629f15f7124b8305e"
  }
 },
 "nbformat": 4,
 "nbformat_minor": 5
}